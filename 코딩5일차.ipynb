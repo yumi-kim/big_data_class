{
  "nbformat": 4,
  "nbformat_minor": 0,
  "metadata": {
    "colab": {
      "name": "코딩5일차.ipynb",
      "provenance": [],
      "include_colab_link": true
    },
    "kernelspec": {
      "name": "python3",
      "display_name": "Python 3"
    }
  },
  "cells": [
    {
      "cell_type": "markdown",
      "metadata": {
        "id": "view-in-github",
        "colab_type": "text"
      },
      "source": [
        "<a href=\"https://colab.research.google.com/github/yumi-kim/big_data_class/blob/master/%EC%BD%94%EB%94%A95%EC%9D%BC%EC%B0%A8.ipynb\" target=\"_parent\"><img src=\"https://colab.research.google.com/assets/colab-badge.svg\" alt=\"Open In Colab\"/></a>"
      ]
    },
    {
      "cell_type": "markdown",
      "metadata": {
        "id": "dEPqkLx7t5wE",
        "colab_type": "text"
      },
      "source": [
        "# kangyangjae@gnu.ac.kr"
      ]
    },
    {
      "cell_type": "markdown",
      "metadata": {
        "id": "Fp6R6PkruMwb",
        "colab_type": "text"
      },
      "source": [
        "아무말이나 쓰면 됨. \n",
        "\n",
        "*   항목 추가\n",
        "*   항목 추가\n",
        "\n",
        "---\n",
        "\n",
        "\n",
        "\n"
      ]
    },
    {
      "cell_type": "code",
      "metadata": {
        "id": "NT4k9QsVt8bT",
        "colab_type": "code",
        "colab": {}
      },
      "source": [
        "from google.colab import drive"
      ],
      "execution_count": 0,
      "outputs": []
    },
    {
      "cell_type": "code",
      "metadata": {
        "id": "_e1Q_i27uANT",
        "colab_type": "code",
        "outputId": "f3f00cba-7c26-42e0-87fc-48ccca57e7ed",
        "colab": {
          "base_uri": "https://localhost:8080/",
          "height": 131
        }
      },
      "source": [
        "drive.mount('/content/gdrive')"
      ],
      "execution_count": 0,
      "outputs": [
        {
          "output_type": "stream",
          "text": [
            "Go to this URL in a browser: https://accounts.google.com/o/oauth2/auth?client_id=947318989803-6bn6qk8qdgf4n4g3pfee6491hc0brc4i.apps.googleusercontent.com&redirect_uri=urn%3Aietf%3Awg%3Aoauth%3A2.0%3Aoob&scope=email%20https%3A%2F%2Fwww.googleapis.com%2Fauth%2Fdocs.test%20https%3A%2F%2Fwww.googleapis.com%2Fauth%2Fdrive%20https%3A%2F%2Fwww.googleapis.com%2Fauth%2Fdrive.photos.readonly%20https%3A%2F%2Fwww.googleapis.com%2Fauth%2Fpeopleapi.readonly&response_type=code\n",
            "\n",
            "Enter your authorization code:\n",
            "··········\n",
            "Mounted at /content/gdrive\n"
          ],
          "name": "stdout"
        }
      ]
    },
    {
      "cell_type": "code",
      "metadata": {
        "id": "_WWuiOCguCZs",
        "colab_type": "code",
        "outputId": "3201be3a-e6f9-4d43-d19d-74408a50ca69",
        "colab": {
          "base_uri": "https://localhost:8080/",
          "height": 36
        }
      },
      "source": [
        "cd /content/gdrive/My\\ Drive\n",
        "cd bbd2019\n",
        "pwd\n",
        "cp ../2019바이오빅데이터\\ 수업자료/gt_food_23accesions.pkl .\n",
        "cd ..\n",
        "cd analysis/경상대/2019/8.\\ 강의/\n",
        "cd 2019바이오빅데이터/2019바이오빅데이터\\ 수업자료/"
      ],
      "execution_count": 0,
      "outputs": [
        {
          "output_type": "stream",
          "text": [
            "/content/gdrive/My Drive\n"
          ],
          "name": "stdout"
        }
      ]
    },
    {
      "cell_type": "code",
      "metadata": {
        "id": "m7QSsmHPyHZP",
        "colab_type": "code",
        "colab": {}
      },
      "source": [
        "import pandas as pd"
      ],
      "execution_count": 0,
      "outputs": []
    },
    {
      "cell_type": "code",
      "metadata": {
        "id": "nH6BRJDZyNA3",
        "colab_type": "code",
        "colab": {}
      },
      "source": [
        "df_gt = pd.read_pickle('./gt_food_23accesions.pkl')"
      ],
      "execution_count": 0,
      "outputs": []
    },
    {
      "cell_type": "code",
      "metadata": {
        "id": "k6KAutaLyWMv",
        "colab_type": "code",
        "colab": {}
      },
      "source": [
        "df_gt.to_csv('./gt_food_23accessions.csv')"
      ],
      "execution_count": 0,
      "outputs": []
    },
    {
      "cell_type": "code",
      "metadata": {
        "id": "OezhlkrtyXyQ",
        "colab_type": "code",
        "outputId": "ce3917bf-9816-417d-e8f7-d890127db0d8",
        "colab": {
          "base_uri": "https://localhost:8080/",
          "height": 252
        }
      },
      "source": [
        "df_gt.head()"
      ],
      "execution_count": 0,
      "outputs": [
        {
          "output_type": "execute_result",
          "data": {
            "text/html": [
              "<div>\n",
              "<style scoped>\n",
              "    .dataframe tbody tr th:only-of-type {\n",
              "        vertical-align: middle;\n",
              "    }\n",
              "\n",
              "    .dataframe tbody tr th {\n",
              "        vertical-align: top;\n",
              "    }\n",
              "\n",
              "    .dataframe thead th {\n",
              "        text-align: right;\n",
              "    }\n",
              "</style>\n",
              "<table border=\"1\" class=\"dataframe\">\n",
              "  <thead>\n",
              "    <tr style=\"text-align: right;\">\n",
              "      <th></th>\n",
              "      <th>SRR7501150</th>\n",
              "      <th>SRR7501160</th>\n",
              "      <th>SRR7501167</th>\n",
              "      <th>SRR7501181</th>\n",
              "      <th>SRR7505765</th>\n",
              "      <th>SRR7505768</th>\n",
              "      <th>SRR7505771</th>\n",
              "      <th>SRR7505773</th>\n",
              "      <th>SRR7505774</th>\n",
              "      <th>SRR7505779</th>\n",
              "      <th>...</th>\n",
              "      <th>SRR7505877</th>\n",
              "      <th>SRR7505879</th>\n",
              "      <th>SRR7505880</th>\n",
              "      <th>SRR7505882</th>\n",
              "      <th>SRR7505889</th>\n",
              "      <th>SRR7505890</th>\n",
              "      <th>SRR7511299</th>\n",
              "      <th>SRR7527615</th>\n",
              "      <th>SRR7834586</th>\n",
              "      <th>SRR7850029</th>\n",
              "    </tr>\n",
              "  </thead>\n",
              "  <tbody>\n",
              "    <tr>\n",
              "      <th>0</th>\n",
              "      <td>CC</td>\n",
              "      <td>CC</td>\n",
              "      <td>AA</td>\n",
              "      <td>AA</td>\n",
              "      <td>AA</td>\n",
              "      <td>CC</td>\n",
              "      <td>CC</td>\n",
              "      <td>AA</td>\n",
              "      <td>CC</td>\n",
              "      <td>CC</td>\n",
              "      <td>...</td>\n",
              "      <td>CC</td>\n",
              "      <td>AA</td>\n",
              "      <td>AA</td>\n",
              "      <td>CC</td>\n",
              "      <td>AA</td>\n",
              "      <td>CC</td>\n",
              "      <td>CC</td>\n",
              "      <td>CC</td>\n",
              "      <td>AA</td>\n",
              "      <td>AA</td>\n",
              "    </tr>\n",
              "    <tr>\n",
              "      <th>1</th>\n",
              "      <td>CC</td>\n",
              "      <td>CC</td>\n",
              "      <td>CC</td>\n",
              "      <td>CC</td>\n",
              "      <td>CC</td>\n",
              "      <td>CC</td>\n",
              "      <td>CC</td>\n",
              "      <td>CC</td>\n",
              "      <td>CC</td>\n",
              "      <td>CC</td>\n",
              "      <td>...</td>\n",
              "      <td>TT</td>\n",
              "      <td>CC</td>\n",
              "      <td>CC</td>\n",
              "      <td>CC</td>\n",
              "      <td>CC</td>\n",
              "      <td>CC</td>\n",
              "      <td>TT</td>\n",
              "      <td>CC</td>\n",
              "      <td>TT</td>\n",
              "      <td>TT</td>\n",
              "    </tr>\n",
              "    <tr>\n",
              "      <th>2</th>\n",
              "      <td>GG</td>\n",
              "      <td>GG</td>\n",
              "      <td>GG</td>\n",
              "      <td>GG</td>\n",
              "      <td>GG</td>\n",
              "      <td>GG</td>\n",
              "      <td>GG</td>\n",
              "      <td>GG</td>\n",
              "      <td>GG</td>\n",
              "      <td>GG</td>\n",
              "      <td>...</td>\n",
              "      <td>GG</td>\n",
              "      <td>GG</td>\n",
              "      <td>GG</td>\n",
              "      <td>GG</td>\n",
              "      <td>GG</td>\n",
              "      <td>GG</td>\n",
              "      <td>GG</td>\n",
              "      <td>GG</td>\n",
              "      <td>TT</td>\n",
              "      <td>TT</td>\n",
              "    </tr>\n",
              "    <tr>\n",
              "      <th>3</th>\n",
              "      <td>TT</td>\n",
              "      <td>TT</td>\n",
              "      <td>TT</td>\n",
              "      <td>TT</td>\n",
              "      <td>TT</td>\n",
              "      <td>TT</td>\n",
              "      <td>TT</td>\n",
              "      <td>TT</td>\n",
              "      <td>TT</td>\n",
              "      <td>TT</td>\n",
              "      <td>...</td>\n",
              "      <td>TT</td>\n",
              "      <td>TT</td>\n",
              "      <td>TT</td>\n",
              "      <td>TT</td>\n",
              "      <td>TT</td>\n",
              "      <td>TT</td>\n",
              "      <td>TT</td>\n",
              "      <td>TT</td>\n",
              "      <td>CC</td>\n",
              "      <td>CC</td>\n",
              "    </tr>\n",
              "    <tr>\n",
              "      <th>4</th>\n",
              "      <td>TT</td>\n",
              "      <td>TT</td>\n",
              "      <td>CC</td>\n",
              "      <td>CC</td>\n",
              "      <td>CC</td>\n",
              "      <td>TT</td>\n",
              "      <td>CC</td>\n",
              "      <td>CC</td>\n",
              "      <td>TT</td>\n",
              "      <td>TT</td>\n",
              "      <td>...</td>\n",
              "      <td>CC</td>\n",
              "      <td>CC</td>\n",
              "      <td>CC</td>\n",
              "      <td>TT</td>\n",
              "      <td>CC</td>\n",
              "      <td>CC</td>\n",
              "      <td>CC</td>\n",
              "      <td>TT</td>\n",
              "      <td>CC</td>\n",
              "      <td>CC</td>\n",
              "    </tr>\n",
              "  </tbody>\n",
              "</table>\n",
              "<p>5 rows × 23 columns</p>\n",
              "</div>"
            ],
            "text/plain": [
              "  SRR7501150 SRR7501160 SRR7501167 SRR7501181 SRR7505765 SRR7505768  \\\n",
              "0         CC         CC         AA         AA         AA         CC   \n",
              "1         CC         CC         CC         CC         CC         CC   \n",
              "2         GG         GG         GG         GG         GG         GG   \n",
              "3         TT         TT         TT         TT         TT         TT   \n",
              "4         TT         TT         CC         CC         CC         TT   \n",
              "\n",
              "  SRR7505771 SRR7505773 SRR7505774 SRR7505779    ...     SRR7505877  \\\n",
              "0         CC         AA         CC         CC    ...             CC   \n",
              "1         CC         CC         CC         CC    ...             TT   \n",
              "2         GG         GG         GG         GG    ...             GG   \n",
              "3         TT         TT         TT         TT    ...             TT   \n",
              "4         CC         CC         TT         TT    ...             CC   \n",
              "\n",
              "  SRR7505879 SRR7505880 SRR7505882 SRR7505889 SRR7505890 SRR7511299  \\\n",
              "0         AA         AA         CC         AA         CC         CC   \n",
              "1         CC         CC         CC         CC         CC         TT   \n",
              "2         GG         GG         GG         GG         GG         GG   \n",
              "3         TT         TT         TT         TT         TT         TT   \n",
              "4         CC         CC         TT         CC         CC         CC   \n",
              "\n",
              "  SRR7527615 SRR7834586 SRR7850029  \n",
              "0         CC         AA         AA  \n",
              "1         CC         TT         TT  \n",
              "2         GG         TT         TT  \n",
              "3         TT         CC         CC  \n",
              "4         TT         CC         CC  \n",
              "\n",
              "[5 rows x 23 columns]"
            ]
          },
          "metadata": {
            "tags": []
          },
          "execution_count": 19
        }
      ]
    },
    {
      "cell_type": "code",
      "metadata": {
        "id": "vTUXZpcKzRCe",
        "colab_type": "code",
        "colab": {}
      },
      "source": [
        "allele_pool = []\n",
        "for egt in df_gt.loc[0].values:\n",
        "  allele_pool += list(egt)\n",
        "from collections import Counter\n",
        "allele_count = dict(Counter(allele_pool))"
      ],
      "execution_count": 0,
      "outputs": []
    },
    {
      "cell_type": "code",
      "metadata": {
        "id": "HNBb_b4w3tDL",
        "colab_type": "code",
        "outputId": "31da1dbb-100a-4a9a-85ad-0c7dd1793d34",
        "colab": {
          "base_uri": "https://localhost:8080/",
          "height": 35
        }
      },
      "source": [
        "allele_count"
      ],
      "execution_count": 0,
      "outputs": [
        {
          "output_type": "execute_result",
          "data": {
            "text/plain": [
              "{'A': 18, 'C': 28}"
            ]
          },
          "metadata": {
            "tags": []
          },
          "execution_count": 32
        }
      ]
    },
    {
      "cell_type": "code",
      "metadata": {
        "id": "-txHbDPH3wAk",
        "colab_type": "code",
        "outputId": "b126891f-fca5-4d2e-e756-e4413ea77a1a",
        "colab": {
          "base_uri": "https://localhost:8080/",
          "height": 35
        }
      },
      "source": [
        "allele_count.items()"
      ],
      "execution_count": 0,
      "outputs": [
        {
          "output_type": "execute_result",
          "data": {
            "text/plain": [
              "dict_items([('C', 28), ('A', 18)])"
            ]
          },
          "metadata": {
            "tags": []
          },
          "execution_count": 33
        }
      ]
    },
    {
      "cell_type": "code",
      "metadata": {
        "id": "hHx4JT892zGT",
        "colab_type": "code",
        "colab": {}
      },
      "source": [
        "allele_freq = {x:y/46 for x,y in allele_count.items()}"
      ],
      "execution_count": 0,
      "outputs": []
    },
    {
      "cell_type": "code",
      "metadata": {
        "id": "U2Z3Uafx3oGL",
        "colab_type": "code",
        "outputId": "997e971e-ab2a-4194-ce7d-0a65527adc73",
        "colab": {
          "base_uri": "https://localhost:8080/",
          "height": 35
        }
      },
      "source": [
        "allele_freq"
      ],
      "execution_count": 0,
      "outputs": [
        {
          "output_type": "execute_result",
          "data": {
            "text/plain": [
              "{'A': 0.391304347826087, 'C': 0.6086956521739131}"
            ]
          },
          "metadata": {
            "tags": []
          },
          "execution_count": 31
        }
      ]
    },
    {
      "cell_type": "code",
      "metadata": {
        "id": "63WjJwE53rra",
        "colab_type": "code",
        "colab": {}
      },
      "source": [
        "allele_freq_traditional = {}\n",
        "for key in allele_count:\n",
        "  count = allele_count[key]\n",
        "  freq  = count/46 # 변수로 만들수이씀. \n",
        "  allele_freq_traditional[key] = freq \n",
        "  "
      ],
      "execution_count": 0,
      "outputs": []
    },
    {
      "cell_type": "code",
      "metadata": {
        "id": "ET3wvT8j4Xf6",
        "colab_type": "code",
        "outputId": "8e2d93b2-91ed-43f8-dc77-2e8643db2456",
        "colab": {
          "base_uri": "https://localhost:8080/",
          "height": 35
        }
      },
      "source": [
        "allele_freq_traditional"
      ],
      "execution_count": 0,
      "outputs": [
        {
          "output_type": "execute_result",
          "data": {
            "text/plain": [
              "{'A': 0.391304347826087, 'C': 0.6086956521739131}"
            ]
          },
          "metadata": {
            "tags": []
          },
          "execution_count": 37
        }
      ]
    },
    {
      "cell_type": "code",
      "metadata": {
        "id": "tFv0rDBi4qZ7",
        "colab_type": "code",
        "colab": {}
      },
      "source": [
        "gt_frq = {} # ???? "
      ],
      "execution_count": 0,
      "outputs": []
    },
    {
      "cell_type": "code",
      "metadata": {
        "id": "jqK61SeB5Dh5",
        "colab_type": "code",
        "outputId": "4bc0c066-ac7a-4bc7-8532-9a4ae6abb36e",
        "colab": {
          "base_uri": "https://localhost:8080/",
          "height": 35
        }
      },
      "source": [
        "import numpy as np\n",
        "from scipy.stats.distributions import chi2\n",
        "\n",
        "gt_frq_dict = {}\n",
        "for key1 in allele_freq_traditional:\n",
        "  for key2 in allele_freq_traditional:\n",
        "    alleles    = [key1,key2]\n",
        "    alleles.sort()\n",
        "    allele_frq = [allele_freq_traditional[x] for x in alleles]\n",
        "    gt         = ''.join(alleles)\n",
        "    gt_frq     = np.prod(allele_frq)\n",
        "    try:\n",
        "      gt_frq_dict[gt] += gt_frq\n",
        "    except KeyError:\n",
        "      gt_frq_dict[gt]  = gt_frq\n",
        "      \n",
        "gt_count_dict = {x:y*23 for x,y in gt_frq_dict.items()}\n",
        "gt_count_est  = np.array(list(gt_count_dict.values()))\n",
        "gt_count_obs  = np.array([list(df_gt.loc[0]).count(x) for x in gt_count_dict])\n",
        "chisqr        = np.sum((gt_count_est - gt_count_obs)**2 / gt_count_est)\n",
        "chi2.sf(chisqr,1)"
      ],
      "execution_count": 0,
      "outputs": [
        {
          "output_type": "execute_result",
          "data": {
            "text/plain": [
              "1.6200139824664742e-06"
            ]
          },
          "metadata": {
            "tags": []
          },
          "execution_count": 77
        }
      ]
    },
    {
      "cell_type": "code",
      "metadata": {
        "id": "69XTcM6s6919",
        "colab_type": "code",
        "colab": {}
      },
      "source": [
        "test = [10,20]"
      ],
      "execution_count": 0,
      "outputs": []
    },
    {
      "cell_type": "code",
      "metadata": {
        "id": "oCz7IxMe9uZu",
        "colab_type": "code",
        "colab": {}
      },
      "source": [
        "import numpy as np"
      ],
      "execution_count": 0,
      "outputs": []
    },
    {
      "cell_type": "code",
      "metadata": {
        "id": "z8Q_AfLL9voF",
        "colab_type": "code",
        "outputId": "0ad78c95-07d5-4835-a4eb-10f671c40d5a",
        "colab": {
          "base_uri": "https://localhost:8080/",
          "height": 35
        }
      },
      "source": [
        "np.prod(test)"
      ],
      "execution_count": 0,
      "outputs": [
        {
          "output_type": "execute_result",
          "data": {
            "text/plain": [
              "200"
            ]
          },
          "metadata": {
            "tags": []
          },
          "execution_count": 53
        }
      ]
    },
    {
      "cell_type": "code",
      "metadata": {
        "id": "WJiGxTNZ9xnt",
        "colab_type": "code",
        "colab": {}
      },
      "source": [
        ""
      ],
      "execution_count": 0,
      "outputs": []
    }
  ]
}