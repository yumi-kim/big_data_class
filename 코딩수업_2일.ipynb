{
  "nbformat": 4,
  "nbformat_minor": 0,
  "metadata": {
    "colab": {
      "name": "코딩수업_2일.ipynb",
      "provenance": [],
      "include_colab_link": true
    },
    "kernelspec": {
      "name": "python3",
      "display_name": "Python 3"
    }
  },
  "cells": [
    {
      "cell_type": "markdown",
      "metadata": {
        "id": "view-in-github",
        "colab_type": "text"
      },
      "source": [
        "<a href=\"https://colab.research.google.com/github/yumi-kim/big_data_class/blob/master/%EC%BD%94%EB%94%A9%EC%88%98%EC%97%85_2%EC%9D%BC.ipynb\" target=\"_parent\"><img src=\"https://colab.research.google.com/assets/colab-badge.svg\" alt=\"Open In Colab\"/></a>"
      ]
    },
    {
      "cell_type": "code",
      "metadata": {
        "id": "IPsmpGAQg8FD",
        "colab_type": "code",
        "colab": {}
      },
      "source": [
        "# 변수"
      ],
      "execution_count": 0,
      "outputs": []
    },
    {
      "cell_type": "code",
      "metadata": {
        "id": "kYj-J7VshDi_",
        "colab_type": "code",
        "colab": {}
      },
      "source": [
        "from google.colab import drive"
      ],
      "execution_count": 0,
      "outputs": []
    },
    {
      "cell_type": "code",
      "metadata": {
        "id": "YciCoCjlhCLG",
        "colab_type": "code",
        "outputId": "3eee41e4-12a0-41d3-b1ca-e4a547e997ba",
        "colab": {
          "base_uri": "https://localhost:8080/",
          "height": 125
        }
      },
      "source": [
        "drive.mount('/content/gdrive')"
      ],
      "execution_count": 0,
      "outputs": [
        {
          "output_type": "stream",
          "text": [
            "Go to this URL in a browser: https://accounts.google.com/o/oauth2/auth?client_id=947318989803-6bn6qk8qdgf4n4g3pfee6491hc0brc4i.apps.googleusercontent.com&redirect_uri=urn%3Aietf%3Awg%3Aoauth%3A2.0%3Aoob&scope=email%20https%3A%2F%2Fwww.googleapis.com%2Fauth%2Fdocs.test%20https%3A%2F%2Fwww.googleapis.com%2Fauth%2Fdrive%20https%3A%2F%2Fwww.googleapis.com%2Fauth%2Fdrive.photos.readonly%20https%3A%2F%2Fwww.googleapis.com%2Fauth%2Fpeopleapi.readonly&response_type=code\n",
            "\n",
            "Enter your authorization code:\n",
            "··········\n",
            "Mounted at /content/gdrive\n"
          ],
          "name": "stdout"
        }
      ]
    },
    {
      "cell_type": "code",
      "metadata": {
        "id": "0KGAyjg7hJqt",
        "colab_type": "code",
        "outputId": "04ca41ab-d400-4047-b264-fc8653499d72",
        "colab": {
          "base_uri": "https://localhost:8080/",
          "height": 34
        }
      },
      "source": [
        "ls # linux 명령어 "
      ],
      "execution_count": 0,
      "outputs": [
        {
          "output_type": "stream",
          "text": [
            "\u001b[0m\u001b[01;34mgdrive\u001b[0m/  \u001b[01;34msample_data\u001b[0m/\n"
          ],
          "name": "stdout"
        }
      ]
    },
    {
      "cell_type": "code",
      "metadata": {
        "id": "_i-kfq0ghQ6W",
        "colab_type": "code",
        "outputId": "8a73ec73-1129-4f6e-d4ae-f63b2e3138c5",
        "colab": {
          "base_uri": "https://localhost:8080/",
          "height": 34
        }
      },
      "source": [
        "cd gdrive # change directory "
      ],
      "execution_count": 0,
      "outputs": [
        {
          "output_type": "stream",
          "text": [
            "/content/gdrive\n"
          ],
          "name": "stdout"
        }
      ]
    },
    {
      "cell_type": "code",
      "metadata": {
        "id": "TtMs9Y6Th-3U",
        "colab_type": "code",
        "outputId": "658e4fb4-4a9e-4055-e18a-b9c4a36a6064",
        "colab": {
          "base_uri": "https://localhost:8080/",
          "height": 34
        }
      },
      "source": [
        "pwd"
      ],
      "execution_count": 0,
      "outputs": [
        {
          "output_type": "execute_result",
          "data": {
            "text/plain": [
              "'/content/gdrive'"
            ]
          },
          "metadata": {
            "tags": []
          },
          "execution_count": 8
        }
      ]
    },
    {
      "cell_type": "code",
      "metadata": {
        "id": "PBezoxLDiDY0",
        "colab_type": "code",
        "outputId": "be557116-a80b-4931-bfca-2add4bf3344f",
        "colab": {
          "base_uri": "https://localhost:8080/",
          "height": 34
        }
      },
      "source": [
        "ls"
      ],
      "execution_count": 0,
      "outputs": [
        {
          "output_type": "stream",
          "text": [
            "\u001b[0m\u001b[01;34m'My Drive'\u001b[0m/\n"
          ],
          "name": "stdout"
        }
      ]
    },
    {
      "cell_type": "code",
      "metadata": {
        "id": "6HghTic_i7wc",
        "colab_type": "code",
        "outputId": "ecab5156-96ef-40d5-e423-cbcc71d0faa3",
        "colab": {
          "base_uri": "https://localhost:8080/",
          "height": 34
        }
      },
      "source": [
        "cd My Drive"
      ],
      "execution_count": 0,
      "outputs": [
        {
          "output_type": "stream",
          "text": [
            "/content/gdrive/My Drive\n"
          ],
          "name": "stdout"
        }
      ]
    },
    {
      "cell_type": "code",
      "metadata": {
        "id": "xmch24L7i9Zs",
        "colab_type": "code",
        "outputId": "09472a15-b381-4a0f-cd5f-b85f760d39ff",
        "colab": {
          "base_uri": "https://localhost:8080/",
          "height": 34
        }
      },
      "source": [
        "pwd"
      ],
      "execution_count": 0,
      "outputs": [
        {
          "output_type": "execute_result",
          "data": {
            "text/plain": [
              "'/content/gdrive/My Drive'"
            ]
          },
          "metadata": {
            "tags": []
          },
          "execution_count": 11
        }
      ]
    },
    {
      "cell_type": "code",
      "metadata": {
        "id": "H39IJbU3jGE0",
        "colab_type": "code",
        "outputId": "b80999c3-77c6-40b5-aebb-e35d6ba28793",
        "colab": {
          "base_uri": "https://localhost:8080/",
          "height": 34
        }
      },
      "source": [
        "mkdir bbd2019 "
      ],
      "execution_count": 0,
      "outputs": [
        {
          "output_type": "stream",
          "text": [
            "mkdir: cannot create directory ‘bbd2019’: File exists\n"
          ],
          "name": "stdout"
        }
      ]
    },
    {
      "cell_type": "code",
      "metadata": {
        "id": "GMACPqvvjHXM",
        "colab_type": "code",
        "outputId": "801ffddf-0b8a-4f11-8756-a6029893f5f1",
        "colab": {
          "base_uri": "https://localhost:8080/",
          "height": 34
        }
      },
      "source": [
        "cd bbd2019"
      ],
      "execution_count": 0,
      "outputs": [
        {
          "output_type": "stream",
          "text": [
            "/content/gdrive/My Drive/bbd2019\n"
          ],
          "name": "stdout"
        }
      ]
    },
    {
      "cell_type": "code",
      "metadata": {
        "id": "6KjbJp5xjhuE",
        "colab_type": "code",
        "outputId": "295985e7-1ed8-41c4-a141-3e9f738e99c4",
        "colab": {
          "base_uri": "https://localhost:8080/",
          "height": 34
        }
      },
      "source": [
        "pwd"
      ],
      "execution_count": 0,
      "outputs": [
        {
          "output_type": "execute_result",
          "data": {
            "text/plain": [
              "'/content/gdrive/My Drive/bbd2019'"
            ]
          },
          "metadata": {
            "tags": []
          },
          "execution_count": 16
        }
      ]
    },
    {
      "cell_type": "code",
      "metadata": {
        "id": "RCRQfFnrjiok",
        "colab_type": "code",
        "colab": {}
      },
      "source": [
        "ls"
      ],
      "execution_count": 0,
      "outputs": []
    },
    {
      "cell_type": "code",
      "metadata": {
        "id": "1Ncp_mJijj78",
        "colab_type": "code",
        "colab": {}
      },
      "source": [
        "! touch now"
      ],
      "execution_count": 0,
      "outputs": []
    },
    {
      "cell_type": "code",
      "metadata": {
        "id": "dMHl81u5j0DL",
        "colab_type": "code",
        "outputId": "e17710c4-0e53-467c-ec01-a1a7c72fb525",
        "colab": {
          "base_uri": "https://localhost:8080/",
          "height": 52
        }
      },
      "source": [
        "ls -l"
      ],
      "execution_count": 0,
      "outputs": [
        {
          "output_type": "stream",
          "text": [
            "total 0\n",
            "-rw------- 1 root root 0 Mar 14 00:17 now\n"
          ],
          "name": "stdout"
        }
      ]
    },
    {
      "cell_type": "code",
      "metadata": {
        "id": "NrZk6kqWkBV7",
        "colab_type": "code",
        "outputId": "d165927b-3b43-4ac6-d31d-d28f5d9abe0d",
        "colab": {
          "base_uri": "https://localhost:8080/",
          "height": 34
        }
      },
      "source": [
        "cd .."
      ],
      "execution_count": 0,
      "outputs": [
        {
          "output_type": "stream",
          "text": [
            "/content/gdrive/My Drive\n"
          ],
          "name": "stdout"
        }
      ]
    },
    {
      "cell_type": "code",
      "metadata": {
        "id": "XZJTAd1okQg7",
        "colab_type": "code",
        "outputId": "a3171c22-cab8-41e0-f4ef-3a64d6948786",
        "colab": {
          "base_uri": "https://localhost:8080/",
          "height": 34
        }
      },
      "source": [
        "cd analysis/경상대"
      ],
      "execution_count": 0,
      "outputs": [
        {
          "output_type": "stream",
          "text": [
            "/content/gdrive/My Drive/analysis/경상대\n"
          ],
          "name": "stdout"
        }
      ]
    },
    {
      "cell_type": "code",
      "metadata": {
        "id": "do19BYJNkTNj",
        "colab_type": "code",
        "outputId": "cb74a7c9-1637-4cc7-abab-81780dd6419d",
        "colab": {
          "base_uri": "https://localhost:8080/",
          "height": 34
        }
      },
      "source": [
        "cd 2019"
      ],
      "execution_count": 0,
      "outputs": [
        {
          "output_type": "stream",
          "text": [
            "/content/gdrive/My Drive/analysis/경상대/2019\n"
          ],
          "name": "stdout"
        }
      ]
    },
    {
      "cell_type": "code",
      "metadata": {
        "id": "oPPvFo5gkUdL",
        "colab_type": "code",
        "outputId": "901d8c32-5da7-49d5-ba55-8e4f11b543f5",
        "colab": {
          "base_uri": "https://localhost:8080/",
          "height": 281
        }
      },
      "source": [
        "ls"
      ],
      "execution_count": 0,
      "outputs": [
        {
          "output_type": "stream",
          "text": [
            "\u001b[0m\u001b[01;34m'0. 학회'\u001b[0m/\n",
            "\u001b[01;34m'1. 과제'\u001b[0m/\n",
            "\u001b[01;34m'2. 논문작성'\u001b[0m/\n",
            "'2018학년도 동계 연구실 프로그램 최종보고서.hwp'\n",
            "\u001b[01;34m'3. 학과일'\u001b[0m/\n",
            "\u001b[01;34m'4. 발표'\u001b[0m/\n",
            "\u001b[01;34m'5. 리뷰어'\u001b[0m/\n",
            "\u001b[01;34m'6. 출장'\u001b[0m/\n",
            "\u001b[01;34m'7. 학생관련'\u001b[0m/\n",
            "\u001b[01;34m'8. 강의'\u001b[0m/\n",
            "\u001b[01;34m'9. 졸업시험'\u001b[0m/\n",
            "'교과목 리스트_강양제 교수님 영문개요 요청.gsheet'\n",
            "'강양제 자문 공문.pdf'\n",
            "'대학원 응용생명과학부 교육과정표(담당교수 기재)_강양제.xls'\n",
            "'교과목 리스트_강양제 교수님 영문개요 요청.xlsx'\n"
          ],
          "name": "stdout"
        }
      ]
    },
    {
      "cell_type": "code",
      "metadata": {
        "id": "6tuqlGSbkVHj",
        "colab_type": "code",
        "outputId": "d1f62843-87d6-447c-c178-b4bc57c81708",
        "colab": {
          "base_uri": "https://localhost:8080/",
          "height": 34
        }
      },
      "source": [
        "cd 8.\\ 강의"
      ],
      "execution_count": 0,
      "outputs": [
        {
          "output_type": "stream",
          "text": [
            "/content/gdrive/My Drive/analysis/경상대/2019/8. 강의\n"
          ],
          "name": "stdout"
        }
      ]
    },
    {
      "cell_type": "code",
      "metadata": {
        "id": "7TPm6VV-kXnL",
        "colab_type": "code",
        "outputId": "e32c216e-01ff-48e0-be81-c9354c5083e4",
        "colab": {
          "base_uri": "https://localhost:8080/",
          "height": 52
        }
      },
      "source": [
        "ls"
      ],
      "execution_count": 0,
      "outputs": [
        {
          "output_type": "stream",
          "text": [
            "\u001b[0m\u001b[01;34m'2017년 2학기'\u001b[0m/    \u001b[01;34m2019바이오빅데이터\u001b[0m/     진로개척역량강화.pptx\n",
            "\u001b[01;34m'2018년 1학기 '\u001b[0m/   \u001b[01;34m2019원예생물정보입문\u001b[0m\u001b[K/\n"
          ],
          "name": "stdout"
        }
      ]
    },
    {
      "cell_type": "code",
      "metadata": {
        "id": "4tzBysj5kYLj",
        "colab_type": "code",
        "outputId": "6ff13275-4a6d-4db7-d062-eaf5649621a5",
        "colab": {
          "base_uri": "https://localhost:8080/",
          "height": 34
        }
      },
      "source": [
        "cd 2019바이오빅데이터/"
      ],
      "execution_count": 0,
      "outputs": [
        {
          "output_type": "stream",
          "text": [
            "/content/gdrive/My Drive/analysis/경상대/2019/8. 강의/2019바이오빅데이터\n"
          ],
          "name": "stdout"
        }
      ]
    },
    {
      "cell_type": "code",
      "metadata": {
        "id": "RyNi0HxCkZ9c",
        "colab_type": "code",
        "outputId": "87707aa9-8be6-4ee2-96e6-375a4c6ac2bb",
        "colab": {
          "base_uri": "https://localhost:8080/",
          "height": 52
        }
      },
      "source": [
        "ls\n"
      ],
      "execution_count": 0,
      "outputs": [
        {
          "output_type": "stream",
          "text": [
            "\u001b[0m\u001b[01;34m'2019바이오빅데이터 수업자료'\u001b[0m/   생물빅데이터통계홈페이지.gsite\n",
            " Day1.gslides                    환경셋업.gslides\n"
          ],
          "name": "stdout"
        }
      ]
    },
    {
      "cell_type": "code",
      "metadata": {
        "id": "vg2XRdDFkbHb",
        "colab_type": "code",
        "outputId": "713cb69c-6106-41ee-b0c0-b96c3bfecae3",
        "colab": {
          "base_uri": "https://localhost:8080/",
          "height": 54
        }
      },
      "source": [
        "cd 2019바이오빅데이터\\ 수업자료"
      ],
      "execution_count": 0,
      "outputs": [
        {
          "output_type": "stream",
          "text": [
            "/content/gdrive/My Drive/analysis/경상대/2019/8. 강의/2019바이오빅데이터/2019바이오빅데이터 수업자료\n"
          ],
          "name": "stdout"
        }
      ]
    },
    {
      "cell_type": "code",
      "metadata": {
        "id": "ehYx-MFjkc3t",
        "colab_type": "code",
        "outputId": "e9920da4-2ee7-4134-ba2f-a2dac2e2e4a9",
        "colab": {
          "base_uri": "https://localhost:8080/",
          "height": 54
        }
      },
      "source": [
        "pwd"
      ],
      "execution_count": 0,
      "outputs": [
        {
          "output_type": "execute_result",
          "data": {
            "text/plain": [
              "'/content/gdrive/My Drive/analysis/경상대/2019/8. 강의/2019바이오빅데이터/2019바이오빅데이터 수업자료'"
            ]
          },
          "metadata": {
            "tags": []
          },
          "execution_count": 31
        }
      ]
    },
    {
      "cell_type": "code",
      "metadata": {
        "id": "fo5ikCknkeHz",
        "colab_type": "code",
        "colab": {}
      },
      "source": [
        "# 변수"
      ],
      "execution_count": 0,
      "outputs": []
    },
    {
      "cell_type": "code",
      "metadata": {
        "id": "y1hLf0IHkii7",
        "colab_type": "code",
        "colab": {}
      },
      "source": [
        "name = '강양제'"
      ],
      "execution_count": 0,
      "outputs": []
    },
    {
      "cell_type": "code",
      "metadata": {
        "id": "mP7AsVz2kk1n",
        "colab_type": "code",
        "outputId": "49c42bc0-1a6a-4ce5-9721-8dbbe3f74b60",
        "colab": {
          "base_uri": "https://localhost:8080/",
          "height": 34
        }
      },
      "source": [
        "name"
      ],
      "execution_count": 0,
      "outputs": [
        {
          "output_type": "execute_result",
          "data": {
            "text/plain": [
              "'강양제'"
            ]
          },
          "metadata": {
            "tags": []
          },
          "execution_count": 34
        }
      ]
    },
    {
      "cell_type": "code",
      "metadata": {
        "id": "Ir2_FT1Pklyj",
        "colab_type": "code",
        "colab": {}
      },
      "source": [
        "age = 38"
      ],
      "execution_count": 0,
      "outputs": []
    },
    {
      "cell_type": "code",
      "metadata": {
        "id": "cb6DgyJNkoIz",
        "colab_type": "code",
        "outputId": "0c73f275-fd3d-490f-dafc-6b0136646646",
        "colab": {
          "base_uri": "https://localhost:8080/",
          "height": 34
        }
      },
      "source": [
        "age"
      ],
      "execution_count": 0,
      "outputs": [
        {
          "output_type": "execute_result",
          "data": {
            "text/plain": [
              "38"
            ]
          },
          "metadata": {
            "tags": []
          },
          "execution_count": 36
        }
      ]
    },
    {
      "cell_type": "code",
      "metadata": {
        "id": "f5sY8LNlkpNj",
        "colab_type": "code",
        "colab": {}
      },
      "source": [
        "# 자료형 "
      ],
      "execution_count": 0,
      "outputs": []
    },
    {
      "cell_type": "code",
      "metadata": {
        "id": "r2Qm5WXpksfi",
        "colab_type": "code",
        "colab": {}
      },
      "source": [
        "# list"
      ],
      "execution_count": 0,
      "outputs": []
    },
    {
      "cell_type": "code",
      "metadata": {
        "id": "WNyQovOHktbC",
        "colab_type": "code",
        "colab": {}
      },
      "source": [
        "profile = [name,age]"
      ],
      "execution_count": 0,
      "outputs": []
    },
    {
      "cell_type": "code",
      "metadata": {
        "id": "V2waQeBakvuq",
        "colab_type": "code",
        "outputId": "1dc8d3b1-6032-44d7-ab59-c80053695e1e",
        "colab": {
          "base_uri": "https://localhost:8080/",
          "height": 34
        }
      },
      "source": [
        "profile"
      ],
      "execution_count": 0,
      "outputs": [
        {
          "output_type": "execute_result",
          "data": {
            "text/plain": [
              "['강양제', 38]"
            ]
          },
          "metadata": {
            "tags": []
          },
          "execution_count": 40
        }
      ]
    },
    {
      "cell_type": "code",
      "metadata": {
        "id": "-b8mFx56kxYa",
        "colab_type": "code",
        "outputId": "bdd7cba1-347f-4912-fcdf-39277bd5f0da",
        "colab": {
          "base_uri": "https://localhost:8080/",
          "height": 34
        }
      },
      "source": [
        "profile[0]"
      ],
      "execution_count": 0,
      "outputs": [
        {
          "output_type": "execute_result",
          "data": {
            "text/plain": [
              "'강양제'"
            ]
          },
          "metadata": {
            "tags": []
          },
          "execution_count": 41
        }
      ]
    },
    {
      "cell_type": "code",
      "metadata": {
        "id": "sG4JpkdDk-_i",
        "colab_type": "code",
        "outputId": "f5ae11e0-5063-420d-b53e-f950b2dc890a",
        "colab": {
          "base_uri": "https://localhost:8080/",
          "height": 34
        }
      },
      "source": [
        "profile[1]"
      ],
      "execution_count": 0,
      "outputs": [
        {
          "output_type": "execute_result",
          "data": {
            "text/plain": [
              "38"
            ]
          },
          "metadata": {
            "tags": []
          },
          "execution_count": 42
        }
      ]
    },
    {
      "cell_type": "code",
      "metadata": {
        "id": "hRegrj0Ak__q",
        "colab_type": "code",
        "outputId": "418e6fef-e079-4e96-f448-4c72f7850fd5",
        "colab": {
          "base_uri": "https://localhost:8080/",
          "height": 35
        }
      },
      "source": [
        "profile[-1]"
      ],
      "execution_count": 0,
      "outputs": [
        {
          "output_type": "execute_result",
          "data": {
            "text/plain": [
              "38"
            ]
          },
          "metadata": {
            "tags": []
          },
          "execution_count": 43
        }
      ]
    },
    {
      "cell_type": "code",
      "metadata": {
        "id": "SSLwcA_clBFq",
        "colab_type": "code",
        "outputId": "71629703-ddcc-4ba4-9155-89795c5ae428",
        "colab": {
          "base_uri": "https://localhost:8080/",
          "height": 52
        }
      },
      "source": [
        "for each in profile:\n",
        "  print(each)"
      ],
      "execution_count": 0,
      "outputs": [
        {
          "output_type": "stream",
          "text": [
            "강양제\n",
            "38\n"
          ],
          "name": "stdout"
        }
      ]
    },
    {
      "cell_type": "code",
      "metadata": {
        "id": "DpeTuYIBlMMq",
        "colab_type": "code",
        "colab": {}
      },
      "source": [
        "# 딕셔너리"
      ],
      "execution_count": 0,
      "outputs": []
    },
    {
      "cell_type": "code",
      "metadata": {
        "id": "3t50k3H_liX5",
        "colab_type": "code",
        "colab": {}
      },
      "source": [
        "dic = {'apple':'사과',\n",
        "       'dog':'개',\n",
        "       'cat':'고양이'\n",
        "      }"
      ],
      "execution_count": 0,
      "outputs": []
    },
    {
      "cell_type": "code",
      "metadata": {
        "id": "JB2xdbGflkGy",
        "colab_type": "code",
        "colab": {}
      },
      "source": [
        "dic['tree'] = '나무'"
      ],
      "execution_count": 0,
      "outputs": []
    },
    {
      "cell_type": "code",
      "metadata": {
        "id": "O4TOvHxKmlQf",
        "colab_type": "code",
        "outputId": "d3c77ae9-11b1-4ee0-e381-1f4bfc4629bc",
        "colab": {
          "base_uri": "https://localhost:8080/",
          "height": 35
        }
      },
      "source": [
        "dic"
      ],
      "execution_count": 0,
      "outputs": [
        {
          "output_type": "execute_result",
          "data": {
            "text/plain": [
              "{'apple': '사과', 'cat': '고양이', 'dog': '개', 'tree': '나무'}"
            ]
          },
          "metadata": {
            "tags": []
          },
          "execution_count": 49
        }
      ]
    },
    {
      "cell_type": "code",
      "metadata": {
        "id": "KakxF6hgmmFp",
        "colab_type": "code",
        "outputId": "1c7cefc6-364f-43b1-b263-828e3943a5a9",
        "colab": {
          "base_uri": "https://localhost:8080/",
          "height": 88
        }
      },
      "source": [
        "for key in dic:\n",
        "  print(key,dic[key])"
      ],
      "execution_count": 0,
      "outputs": [
        {
          "output_type": "stream",
          "text": [
            "apple 사과\n",
            "dog 개\n",
            "cat 고양이\n",
            "tree 나무\n"
          ],
          "name": "stdout"
        }
      ]
    },
    {
      "cell_type": "code",
      "metadata": {
        "id": "vUi6Gb1vm1R5",
        "colab_type": "code",
        "colab": {}
      },
      "source": [
        "import pandas as pd"
      ],
      "execution_count": 0,
      "outputs": []
    },
    {
      "cell_type": "code",
      "metadata": {
        "id": "qnEq3hn9nHyQ",
        "colab_type": "code",
        "colab": {}
      },
      "source": [
        "df = pd.DataFrame(dic,index=['meaning'])"
      ],
      "execution_count": 0,
      "outputs": []
    },
    {
      "cell_type": "code",
      "metadata": {
        "id": "7XO6WdXgnJ5B",
        "colab_type": "code",
        "colab": {}
      },
      "source": [
        "df.to_excel('dictionary.xlsx')"
      ],
      "execution_count": 0,
      "outputs": []
    },
    {
      "cell_type": "code",
      "metadata": {
        "id": "JQVHnCHinoEI",
        "colab_type": "code",
        "colab": {}
      },
      "source": [
        "import random"
      ],
      "execution_count": 0,
      "outputs": []
    },
    {
      "cell_type": "code",
      "metadata": {
        "id": "9Gl-nnxGpgcn",
        "colab_type": "code",
        "colab": {}
      },
      "source": [
        "students = ['오규진','곽지호','김시원','김태근','석지원','양원준']"
      ],
      "execution_count": 0,
      "outputs": []
    },
    {
      "cell_type": "code",
      "metadata": {
        "id": "oByci7kUprtm",
        "colab_type": "code",
        "outputId": "8a442723-4f6d-48dc-8114-985a5a4ed6e1",
        "colab": {
          "base_uri": "https://localhost:8080/",
          "height": 35
        }
      },
      "source": [
        "random.sample(students,2)"
      ],
      "execution_count": 0,
      "outputs": [
        {
          "output_type": "execute_result",
          "data": {
            "text/plain": [
              "['오규진', '김태근']"
            ]
          },
          "metadata": {
            "tags": []
          },
          "execution_count": 68
        }
      ]
    },
    {
      "cell_type": "code",
      "metadata": {
        "id": "RFj3roIfpvYn",
        "colab_type": "code",
        "colab": {}
      },
      "source": [
        "# 멘델의 법칙"
      ],
      "execution_count": 0,
      "outputs": []
    },
    {
      "cell_type": "code",
      "metadata": {
        "id": "4b3a0VwXqX9z",
        "colab_type": "code",
        "colab": {}
      },
      "source": [
        "m = ['A','A']\n",
        "f = ['a','a']"
      ],
      "execution_count": 0,
      "outputs": []
    },
    {
      "cell_type": "code",
      "metadata": {
        "id": "MZ0pL82wqcIz",
        "colab_type": "code",
        "outputId": "874df557-6cd0-444c-a1d5-47bc2b9e64b4",
        "colab": {
          "base_uri": "https://localhost:8080/",
          "height": 35
        }
      },
      "source": [
        "random.sample(m,1),random.sample(f,1)"
      ],
      "execution_count": 0,
      "outputs": [
        {
          "output_type": "execute_result",
          "data": {
            "text/plain": [
              "(['A'], ['a'])"
            ]
          },
          "metadata": {
            "tags": []
          },
          "execution_count": 73
        }
      ]
    },
    {
      "cell_type": "code",
      "metadata": {
        "id": "8OASc3rDqJZT",
        "colab_type": "code",
        "colab": {}
      },
      "source": [
        "m = ['A','a']\n",
        "f = ['A','a']"
      ],
      "execution_count": 0,
      "outputs": []
    },
    {
      "cell_type": "code",
      "metadata": {
        "id": "jCCiZtwetV4v",
        "colab_type": "code",
        "colab": {}
      },
      "source": [
        "a = ['a'] + ['A']"
      ],
      "execution_count": 0,
      "outputs": []
    },
    {
      "cell_type": "code",
      "metadata": {
        "id": "r4LuRZQAtdiw",
        "colab_type": "code",
        "outputId": "352b818a-dc72-449c-9f9b-d6d48373a93c",
        "colab": {
          "base_uri": "https://localhost:8080/",
          "height": 35
        }
      },
      "source": [
        "a"
      ],
      "execution_count": 0,
      "outputs": [
        {
          "output_type": "execute_result",
          "data": {
            "text/plain": [
              "['a', 'A']"
            ]
          },
          "metadata": {
            "tags": []
          },
          "execution_count": 106
        }
      ]
    },
    {
      "cell_type": "code",
      "metadata": {
        "id": "dTCdCFUatgG2",
        "colab_type": "code",
        "colab": {}
      },
      "source": [
        "a.sort()"
      ],
      "execution_count": 0,
      "outputs": []
    },
    {
      "cell_type": "code",
      "metadata": {
        "id": "NDc7FpaytiDh",
        "colab_type": "code",
        "colab": {}
      },
      "source": [
        "a = ''.join(a)"
      ],
      "execution_count": 0,
      "outputs": []
    },
    {
      "cell_type": "code",
      "metadata": {
        "id": "fGqgBa3duAhy",
        "colab_type": "code",
        "colab": {}
      },
      "source": [
        "c_list = []"
      ],
      "execution_count": 0,
      "outputs": []
    },
    {
      "cell_type": "code",
      "metadata": {
        "id": "34sp0x0qt-Or",
        "colab_type": "code",
        "colab": {}
      },
      "source": [
        "c_list.append(a)"
      ],
      "execution_count": 0,
      "outputs": []
    },
    {
      "cell_type": "code",
      "metadata": {
        "id": "8Iv7u-RFuFni",
        "colab_type": "code",
        "outputId": "47d1ad12-a740-487a-a7d0-dba1d793cdc6",
        "colab": {
          "base_uri": "https://localhost:8080/",
          "height": 35
        }
      },
      "source": [
        "c_list"
      ],
      "execution_count": 0,
      "outputs": [
        {
          "output_type": "execute_result",
          "data": {
            "text/plain": [
              "['Aa', 'Aa', 'Aa']"
            ]
          },
          "metadata": {
            "tags": []
          },
          "execution_count": 119
        }
      ]
    },
    {
      "cell_type": "code",
      "metadata": {
        "id": "Y_YeZgmuqXOd",
        "colab_type": "code",
        "colab": {}
      },
      "source": [
        "progeny_list = []\n",
        "for i in range(10000):\n",
        "  progeny = random.sample(m,1) + random.sample(f,1)\n",
        "  progeny.sort()\n",
        "  progeny = ''.join(progeny)\n",
        "  progeny_list.append(progeny)"
      ],
      "execution_count": 0,
      "outputs": []
    },
    {
      "cell_type": "code",
      "metadata": {
        "id": "jE9G2SDArSrF",
        "colab_type": "code",
        "outputId": "e99121ba-9ee2-40b5-fe16-30d5dba8cd4a",
        "colab": {
          "base_uri": "https://localhost:8080/",
          "height": 35
        }
      },
      "source": [
        "from collections import Counter\n",
        "Counter(progeny_list)"
      ],
      "execution_count": 0,
      "outputs": [
        {
          "output_type": "execute_result",
          "data": {
            "text/plain": [
              "Counter({'AA': 2471, 'Aa': 5052, 'aa': 2477})"
            ]
          },
          "metadata": {
            "tags": []
          },
          "execution_count": 122
        }
      ]
    },
    {
      "cell_type": "code",
      "metadata": {
        "id": "Qg3Fe3bjr1Xc",
        "colab_type": "code",
        "outputId": "c9e40e22-7f0f-40b0-a23f-d8c9fa0d0fdd",
        "colab": {
          "base_uri": "https://localhost:8080/",
          "height": 35
        }
      },
      "source": [
        "len(progeny_list)"
      ],
      "execution_count": 0,
      "outputs": [
        {
          "output_type": "execute_result",
          "data": {
            "text/plain": [
              "10000"
            ]
          },
          "metadata": {
            "tags": []
          },
          "execution_count": 121
        }
      ]
    },
    {
      "cell_type": "code",
      "metadata": {
        "id": "U8EzOIqduWza",
        "colab_type": "code",
        "colab": {}
      },
      "source": [
        ""
      ],
      "execution_count": 0,
      "outputs": []
    }
  ]
}