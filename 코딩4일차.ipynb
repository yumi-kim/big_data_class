{
  "nbformat": 4,
  "nbformat_minor": 0,
  "metadata": {
    "colab": {
      "name": "코딩4일차.ipynb",
      "provenance": [],
      "include_colab_link": true
    },
    "kernelspec": {
      "name": "python3",
      "display_name": "Python 3"
    }
  },
  "cells": [
    {
      "cell_type": "markdown",
      "metadata": {
        "id": "view-in-github",
        "colab_type": "text"
      },
      "source": [
        "<a href=\"https://colab.research.google.com/github/yumi-kim/big_data_class/blob/master/%EC%BD%94%EB%94%A94%EC%9D%BC%EC%B0%A8.ipynb\" target=\"_parent\"><img src=\"https://colab.research.google.com/assets/colab-badge.svg\" alt=\"Open In Colab\"/></a>"
      ]
    },
    {
      "cell_type": "code",
      "metadata": {
        "id": "-CWi-NINvkts",
        "colab_type": "code",
        "colab": {}
      },
      "source": [
        "from google.colab import drive"
      ],
      "execution_count": 0,
      "outputs": []
    },
    {
      "cell_type": "code",
      "metadata": {
        "id": "7PQAiRlbvu9X",
        "colab_type": "code",
        "outputId": "3632b57e-692e-4f96-ce79-d9db860d3b47",
        "colab": {
          "base_uri": "https://localhost:8080/",
          "height": 126
        }
      },
      "source": [
        "drive.mount('/content/gdrive/')"
      ],
      "execution_count": 0,
      "outputs": [
        {
          "output_type": "stream",
          "text": [
            "Go to this URL in a browser: https://accounts.google.com/o/oauth2/auth?client_id=947318989803-6bn6qk8qdgf4n4g3pfee6491hc0brc4i.apps.googleusercontent.com&redirect_uri=urn%3Aietf%3Awg%3Aoauth%3A2.0%3Aoob&scope=email%20https%3A%2F%2Fwww.googleapis.com%2Fauth%2Fdocs.test%20https%3A%2F%2Fwww.googleapis.com%2Fauth%2Fdrive%20https%3A%2F%2Fwww.googleapis.com%2Fauth%2Fdrive.photos.readonly%20https%3A%2F%2Fwww.googleapis.com%2Fauth%2Fpeopleapi.readonly&response_type=code\n",
            "\n",
            "Enter your authorization code:\n",
            "··········\n",
            "Mounted at /content/gdrive/\n"
          ],
          "name": "stdout"
        }
      ]
    },
    {
      "cell_type": "code",
      "metadata": {
        "id": "Kiq9iRxtvzxX",
        "colab_type": "code",
        "colab": {}
      },
      "source": [
        "cd gdrive/My\\ Drive/bbd2019"
      ],
      "execution_count": 0,
      "outputs": []
    },
    {
      "cell_type": "code",
      "metadata": {
        "id": "EYpV8figv_Zg",
        "colab_type": "code",
        "outputId": "b596ecc0-c3b6-4e01-ad16-72bebe587a11",
        "colab": {
          "base_uri": "https://localhost:8080/",
          "height": 35
        }
      },
      "source": [
        "cd gdrive/My\\ Drive/analysis/경상대/2019\n",
        "cd 8.\\ 강의\n",
        "cd 2019바이오빅데이터/\n",
        "cd 2019바이오빅데이터\\ 수업자료"
      ],
      "execution_count": 0,
      "outputs": [
        {
          "output_type": "stream",
          "text": [
            "/content/gdrive/My Drive/analysis/경상대/2019\n"
          ],
          "name": "stdout"
        }
      ]
    },
    {
      "cell_type": "code",
      "metadata": {
        "id": "xqBott9OwMfu",
        "colab_type": "code",
        "colab": {}
      },
      "source": [
        "# Hardy-weinberg equilibrium \n",
        "# number of loci    : 50\n",
        "# number of samples : 10000\n",
        "# number of alleles in locus : 2\n",
        "# what we need to set : allele freq \n",
        "import numpy as np\n",
        "\n",
        "num_samples = 10000\n",
        "num_loci    = 50\n",
        "num_alleles = 2\n",
        "\n",
        "locus_list = []\n",
        "for i in range(num_loci):\n",
        "  p = np.random.random(num_alleles)\n",
        "  p = p/sum(p)\n",
        "  maternal_gt = np.random.choice(range(num_alleles),p=p,size=num_samples)\n",
        "  paternal_gt = np.random.choice(range(num_alleles),p=p,size=num_samples)\n",
        "  locus = [''.join(map(str,np.sort(x))) for x in zip(maternal_gt,paternal_gt)]\n",
        "  locus_list.append(locus)"
      ],
      "execution_count": 0,
      "outputs": []
    },
    {
      "cell_type": "code",
      "metadata": {
        "id": "qnZ-lX_FzNEM",
        "colab_type": "code",
        "colab": {}
      },
      "source": [
        "import pandas as pd\n",
        "from collections import Counter\n",
        "df_hwe = pd.DataFrame(np.array(locus_list))"
      ],
      "execution_count": 0,
      "outputs": []
    },
    {
      "cell_type": "code",
      "metadata": {
        "id": "TIYSoeGD21LC",
        "colab_type": "code",
        "colab": {}
      },
      "source": [
        "chisqr_list = []\n",
        "pvalue_list = []\n",
        "for ix in df_hwe.index:\n",
        "  alleles = []\n",
        "  for x in df_hwe.loc[ix]:\n",
        "    alleles += list(x)\n",
        "  allele_count = dict(Counter(alleles))\n",
        "  allele_frq = {}\n",
        "  for allele in allele_count:\n",
        "    allele_frq[allele] = allele_count[allele]/(num_samples*2)\n",
        "  gt_count_obs = dict(Counter(df_hwe.loc[ix]))\n",
        "  df_chi = pd.DataFrame()\n",
        "  for gt in gt_count_obs:\n",
        "    df_chi.at[gt,'obs'] = gt_count_obs[gt]\n",
        "    a1 = gt[0]\n",
        "    a2 = gt[1]\n",
        "    if a1 == a2:\n",
        "      gt_frq = allele_frq[a1]**2\n",
        "    else:\n",
        "      gt_frq = allele_frq[a1] * allele_frq[a2] * 2\n",
        "    df_chi.at[gt,'est'] = num_samples * gt_frq\n",
        "  df_chi['e_chi'] = (df_chi['obs'] - df_chi['est'])**2/df_chi['est'] \n",
        "  chisqr = df_chi['e_chi'].sum()\n",
        "  pvalue = chi2.sf(chisqr,1)\n",
        "  chisqr_list.append(chisqr)\n",
        "  pvalue_list.append(pvalue)"
      ],
      "execution_count": 0,
      "outputs": []
    },
    {
      "cell_type": "code",
      "metadata": {
        "id": "zrwRzX7a-Cl1",
        "colab_type": "code",
        "outputId": "216634cc-349d-4dcf-ce47-9daf9b36d952",
        "colab": {
          "base_uri": "https://localhost:8080/",
          "height": 354
        }
      },
      "source": [
        "import matplotlib.pyplot as plt\n",
        "plt.hist(pvalue_list)"
      ],
      "execution_count": 0,
      "outputs": [
        {
          "output_type": "execute_result",
          "data": {
            "text/plain": [
              "(array([4., 5., 5., 7., 3., 2., 8., 6., 3., 7.]),\n",
              " array([0.00501491, 0.10259132, 0.20016774, 0.29774415, 0.39532057,\n",
              "        0.49289698, 0.5904734 , 0.68804981, 0.78562623, 0.88320265,\n",
              "        0.98077906]),\n",
              " <a list of 10 Patch objects>)"
            ]
          },
          "metadata": {
            "tags": []
          },
          "execution_count": 7
        },
        {
          "output_type": "display_data",
          "data": {
            "image/png": "[encoded data removed]",
            "text/plain": [
              "<Figure size 432x288 with 1 Axes>"
            ]
          },
          "metadata": {
            "tags": []
          }
        }
      ]
    },
    {
      "cell_type": "code",
      "metadata": {
        "id": "dhP7W9T9_Rfc",
        "colab_type": "code",
        "colab": {}
      },
      "source": [
        "from scipy.stats.distributions import chi2"
      ],
      "execution_count": 0,
      "outputs": []
    },
    {
      "cell_type": "code",
      "metadata": {
        "id": "1e3XCCGp_kZU",
        "colab_type": "code",
        "outputId": "a451816e-63a1-448e-e8ff-9718cf7a7fe6",
        "colab": {
          "base_uri": "https://localhost:8080/",
          "height": 35
        }
      },
      "source": [
        "chi2.sf(chisqr,1)"
      ],
      "execution_count": 0,
      "outputs": [
        {
          "output_type": "execute_result",
          "data": {
            "text/plain": [
              "0.590003590667227"
            ]
          },
          "metadata": {
            "tags": []
          },
          "execution_count": 99
        }
      ]
    },
    {
      "cell_type": "code",
      "metadata": {
        "id": "fOxEK_58_nLc",
        "colab_type": "code",
        "colab": {}
      },
      "source": [
        ""
      ],
      "execution_count": 0,
      "outputs": []
    }
  ]
}