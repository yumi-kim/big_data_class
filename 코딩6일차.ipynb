{
  "nbformat": 4,
  "nbformat_minor": 0,
  "metadata": {
    "colab": {
      "name": "코딩6일차.ipynb",
      "provenance": [],
      "include_colab_link": true
    },
    "kernelspec": {
      "name": "python3",
      "display_name": "Python 3"
    }
  },
  "cells": [
    {
      "cell_type": "markdown",
      "metadata": {
        "id": "view-in-github",
        "colab_type": "text"
      },
      "source": [
        "<a href=\"https://colab.research.google.com/github/yumi-kim/big_data_class/blob/master/%EC%BD%94%EB%94%A96%EC%9D%BC%EC%B0%A8.ipynb\" target=\"_parent\"><img src=\"https://colab.research.google.com/assets/colab-badge.svg\" alt=\"Open In Colab\"/></a>"
      ]
    },
    {
      "cell_type": "code",
      "metadata": {
        "id": "ypRUwMQSw__E",
        "colab_type": "code",
        "colab": {}
      },
      "source": [
        "from google.colab import drive"
      ],
      "execution_count": 0,
      "outputs": []
    },
    {
      "cell_type": "code",
      "metadata": {
        "id": "nAZHLjjdxx0i",
        "colab_type": "code",
        "outputId": "943e6af7-fe87-46eb-c5b7-2378152bf1e1",
        "colab": {
          "base_uri": "https://localhost:8080/",
          "height": 126
        }
      },
      "source": [
        "drive.mount('/content/gdrive')"
      ],
      "execution_count": 0,
      "outputs": [
        {
          "output_type": "stream",
          "text": [
            "Go to this URL in a browser: https://accounts.google.com/o/oauth2/auth?client_id=947318989803-6bn6qk8qdgf4n4g3pfee6491hc0brc4i.apps.googleusercontent.com&redirect_uri=urn%3Aietf%3Awg%3Aoauth%3A2.0%3Aoob&scope=email%20https%3A%2F%2Fwww.googleapis.com%2Fauth%2Fdocs.test%20https%3A%2F%2Fwww.googleapis.com%2Fauth%2Fdrive%20https%3A%2F%2Fwww.googleapis.com%2Fauth%2Fdrive.photos.readonly%20https%3A%2F%2Fwww.googleapis.com%2Fauth%2Fpeopleapi.readonly&response_type=code\n",
            "\n",
            "Enter your authorization code:\n",
            "··········\n",
            "Mounted at /content/gdrive\n"
          ],
          "name": "stdout"
        }
      ]
    },
    {
      "cell_type": "code",
      "metadata": {
        "id": "mckyraw5x7vB",
        "colab_type": "code",
        "outputId": "a1e699f7-967e-4473-f641-4e7fa2835521",
        "colab": {
          "base_uri": "https://localhost:8080/",
          "height": 72
        }
      },
      "source": [
        "! cd /content/gdrive/My\\ Drive\n",
        "! cd analysis/경상대/2019/8.\\ 강의/\n",
        "! cd 2019바이오빅데이터/2019바이오빅데이터\\ 수업자료/"
      ],
      "execution_count": 0,
      "outputs": [
        {
          "output_type": "stream",
          "text": [
            "/bin/bash: line 0: cd: analysis/경상대/2019/8. 강의/: No such file or directory\n",
            "/bin/bash: line 0: cd: 2019바이오빅데이터/2019바이오빅데이터 수업자료/: No such file or directory\n"
          ],
          "name": "stdout"
        }
      ]
    },
    {
      "cell_type": "code",
      "metadata": {
        "id": "bN59cHOCyCiQ",
        "colab_type": "code",
        "outputId": "19b15252-9e25-473a-b41a-ed89b395751f",
        "colab": {
          "base_uri": "https://localhost:8080/",
          "height": 35
        }
      },
      "source": [
        "cd /content/gdrive/My\\ Drive\n",
        "cd analysis/경상대/2019/8.\\ 강의/\n",
        "cd 2019바이오빅데이터/2019바이오빅데이터\\ 수업자료/"
      ],
      "execution_count": 0,
      "outputs": [
        {
          "output_type": "stream",
          "text": [
            "/content/gdrive/My Drive\n"
          ],
          "name": "stdout"
        }
      ]
    },
    {
      "cell_type": "code",
      "metadata": {
        "id": "eybnpxaXyMWA",
        "colab_type": "code",
        "colab": {}
      },
      "source": [
        "import pandas as pd"
      ],
      "execution_count": 0,
      "outputs": []
    },
    {
      "cell_type": "code",
      "metadata": {
        "id": "BAo7eut7yOx3",
        "colab_type": "code",
        "colab": {}
      },
      "source": [
        "df = pd.read_pickle('./gt_food_23accesions.pkl')\n",
        "# df = pd.read_csv('./gt_food_23accessions.csv')"
      ],
      "execution_count": 0,
      "outputs": []
    },
    {
      "cell_type": "code",
      "metadata": {
        "id": "l0wxnzncyWxo",
        "colab_type": "code",
        "outputId": "db57043b-9091-4d17-d6ec-87afceaae2ee",
        "colab": {
          "base_uri": "https://localhost:8080/",
          "height": 35
        }
      },
      "source": [
        "df.shape"
      ],
      "execution_count": 0,
      "outputs": [
        {
          "output_type": "execute_result",
          "data": {
            "text/plain": [
              "(413041, 23)"
            ]
          },
          "metadata": {
            "tags": []
          },
          "execution_count": 11
        }
      ]
    },
    {
      "cell_type": "code",
      "metadata": {
        "id": "ZUdTIEzMyzpR",
        "colab_type": "code",
        "outputId": "808aeafd-4e31-4788-98be-31d07eeefac2",
        "colab": {
          "base_uri": "https://localhost:8080/",
          "height": 35
        }
      },
      "source": [
        "type(df)"
      ],
      "execution_count": 0,
      "outputs": [
        {
          "output_type": "execute_result",
          "data": {
            "text/plain": [
              "pandas.core.frame.DataFrame"
            ]
          },
          "metadata": {
            "tags": []
          },
          "execution_count": 13
        }
      ]
    },
    {
      "cell_type": "code",
      "metadata": {
        "id": "az-_i00QyZBw",
        "colab_type": "code",
        "outputId": "c81fb900-b5bb-4e76-acff-8f85887f049e",
        "colab": {
          "base_uri": "https://localhost:8080/",
          "height": 35
        }
      },
      "source": [
        "type(df.loc[0])"
      ],
      "execution_count": 0,
      "outputs": [
        {
          "output_type": "execute_result",
          "data": {
            "text/plain": [
              "pandas.core.series.Series"
            ]
          },
          "metadata": {
            "tags": []
          },
          "execution_count": 14
        }
      ]
    },
    {
      "cell_type": "code",
      "metadata": {
        "id": "_IvOrp8iyu3P",
        "colab_type": "code",
        "colab": {}
      },
      "source": [
        "import numpy as np\n",
        "from collections import Counter\n",
        "from itertools import combinations_with_replacement\n",
        "from scipy.stats import chi2\n",
        "\n",
        "\n",
        "def get_pvalue(locus):\n",
        "  alleles = np.stack([list(x) for x in df.loc[locus].values]).ravel()\n",
        "  dic_allele_count = dict(Counter(alleles))\n",
        "  dic_allele_frq   = {x : y / sum(dic_allele_count.values()) for x,y in dic_allele_count.items()}\n",
        "  # genotype freq --> genotype count estimate \n",
        "  dic_gt_frq = {}\n",
        "  for allele1, allele2 in combinations_with_replacement(dic_allele_frq.keys(),2):\n",
        "    if allele1 == allele2:\n",
        "      gt_frq = dic_allele_frq[allele1] * dic_allele_frq[allele2]\n",
        "    else : \n",
        "      gt_frq = dic_allele_frq[allele1] * dic_allele_frq[allele2] * 2\n",
        "    gt = allele1 + allele2\n",
        "    dic_gt_frq[gt] = gt_frq\n",
        "  gt_count_est = np.array(list(dic_gt_frq.values())) * df.shape[1] # number of samples\n",
        "  gt_count_obs = np.array([list(df.loc[locus]).count(x) for x in dic_gt_frq.keys()])\n",
        "  # Chisqr test \n",
        "  chisqr = np.sum((gt_count_est - gt_count_obs) ** 2 / gt_count_est)\n",
        "  pvalue = chi2.sf(chisqr,df=1)\n",
        "  #print(pvalue)\n",
        "  return pvalue"
      ],
      "execution_count": 0,
      "outputs": []
    },
    {
      "cell_type": "code",
      "metadata": {
        "id": "GHoX4nTE_Ie3",
        "colab_type": "code",
        "outputId": "3829809a-161b-40b9-a90e-59c97c667276",
        "colab": {
          "base_uri": "https://localhost:8080/",
          "height": 35
        }
      },
      "source": [
        "from tqdm import tqdm \n",
        "ps = []\n",
        "for locus in tqdm(df.index):\n",
        "  try:\n",
        "    ps.append(get_pvalue(locus))\n",
        "  except ValueError:\n",
        "    ps.append(-99)"
      ],
      "execution_count": 0,
      "outputs": [
        {
          "output_type": "stream",
          "text": [
            "100%|██████████| 413041/413041 [08:11<00:00, 840.79it/s]\n"
          ],
          "name": "stderr"
        }
      ]
    },
    {
      "cell_type": "code",
      "metadata": {
        "id": "gtcv2MeC_q8b",
        "colab_type": "code",
        "colab": {}
      },
      "source": [
        "ps = np.array(ps)\n",
        "ps_cor = ps[ps>0]"
      ],
      "execution_count": 0,
      "outputs": []
    },
    {
      "cell_type": "code",
      "metadata": {
        "id": "Xr1xQVE4Df1f",
        "colab_type": "code",
        "colab": {}
      },
      "source": [
        "df_pvalue           = pd.DataFrame()\n",
        "df_pvalue['Pvalue'] = ps\n",
        "df_pvalue.to_pickle('./gt_food_23accesions.pvalue.pkl')"
      ],
      "execution_count": 0,
      "outputs": []
    },
    {
      "cell_type": "code",
      "metadata": {
        "id": "BbdllDY0D5PV",
        "colab_type": "code",
        "outputId": "9503e52a-6528-4792-c421-1814902857ac",
        "colab": {
          "base_uri": "https://localhost:8080/",
          "height": 295
        }
      },
      "source": [
        "m = df_pvalue['Pvalue'] > 0\n",
        "df_pvalue[m].hist()\n",
        "plt.xlabel('Pvalue')\n",
        "plt.ylabel('Count')\n",
        "plt.show()"
      ],
      "execution_count": 0,
      "outputs": [
        {
          "output_type": "display_data",
          "data": {
            "image/png": "[encoded data removed]",
            "text/plain": [
              "<Figure size 432x288 with 1 Axes>"
            ]
          },
          "metadata": {
            "tags": []
          }
        }
      ]
    },
    {
      "cell_type": "code",
      "metadata": {
        "id": "fvMTRjAcCnTw",
        "colab_type": "code",
        "outputId": "e072d2df-8117-4a92-de0b-bb482c3a8e6c",
        "colab": {
          "base_uri": "https://localhost:8080/",
          "height": 269
        }
      },
      "source": [
        "import matplotlib.pyplot as plt\n",
        "plt.hist(ps_cor)\n",
        "plt.show()"
      ],
      "execution_count": 0,
      "outputs": [
        {
          "output_type": "display_data",
          "data": {
            "image/png": "[encoded data removed]",
            "text/plain": [
              "<Figure size 432x288 with 1 Axes>"
            ]
          },
          "metadata": {
            "tags": []
          }
        }
      ]
    },
    {
      "cell_type": "code",
      "metadata": {
        "id": "uQYuXIG_DIPy",
        "colab_type": "code",
        "outputId": "fbd785f5-c261-4d39-bb23-9a01bb5c7e25",
        "colab": {
          "base_uri": "https://localhost:8080/",
          "height": 287
        }
      },
      "source": [
        "import seaborn as sb\n",
        "sb.kdeplot(ps_cor)"
      ],
      "execution_count": 0,
      "outputs": [
        {
          "output_type": "execute_result",
          "data": {
            "text/plain": [
              "<matplotlib.axes._subplots.AxesSubplot at 0x7f2dff2809e8>"
            ]
          },
          "metadata": {
            "tags": []
          },
          "execution_count": 91
        },
        {
          "output_type": "display_data",
          "data": {
            "image/png": "[encoded data removed]",
            "text/plain": [
              "<Figure size 432x288 with 1 Axes>"
            ]
          },
          "metadata": {
            "tags": []
          }
        }
      ]
    },
    {
      "cell_type": "code",
      "metadata": {
        "id": "20P0obn172cp",
        "colab_type": "code",
        "colab": {}
      },
      "source": [
        "# 하나의 로커스에 대한 pvalue를 구했습니다. \n",
        "# df.loc[0] 에서 시작함.\n",
        "# 그렇다면\n",
        "# 모든 로커스의 pvalue를 구해봅시다. \n"
      ],
      "execution_count": 0,
      "outputs": []
    },
    {
      "cell_type": "code",
      "metadata": {
        "id": "x10v6xDc8Wag",
        "colab_type": "code",
        "colab": {}
      },
      "source": [
        ""
      ],
      "execution_count": 0,
      "outputs": []
    }
  ]
}