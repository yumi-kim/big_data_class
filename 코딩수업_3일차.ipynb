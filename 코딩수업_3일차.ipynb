{
  "nbformat": 4,
  "nbformat_minor": 0,
  "metadata": {
    "colab": {
      "name": "코딩수업 3일차.ipynb",
      "provenance": [],
      "include_colab_link": true
    },
    "kernelspec": {
      "name": "python3",
      "display_name": "Python 3"
    }
  },
  "cells": [
    {
      "cell_type": "markdown",
      "metadata": {
        "id": "view-in-github",
        "colab_type": "text"
      },
      "source": [
        "<a href=\"https://colab.research.google.com/github/yumi-kim/big_data_class/blob/master/%EC%BD%94%EB%94%A9%EC%88%98%EC%97%85_3%EC%9D%BC%EC%B0%A8.ipynb\" target=\"_parent\"><img src=\"https://colab.research.google.com/assets/colab-badge.svg\" alt=\"Open In Colab\"/></a>"
      ]
    },
    {
      "cell_type": "code",
      "metadata": {
        "id": "T16_TyvWkZiB",
        "colab_type": "code",
        "colab": {}
      },
      "source": [
        "from google.colab import drive"
      ],
      "execution_count": 0,
      "outputs": []
    },
    {
      "cell_type": "code",
      "metadata": {
        "id": "jd-mbItpkegc",
        "colab_type": "code",
        "outputId": "b72276cb-09f9-40b6-9bd3-4ee4d22eb779",
        "colab": {
          "base_uri": "https://localhost:8080/",
          "height": 126
        }
      },
      "source": [
        "drive.mount('/content/gdrive')"
      ],
      "execution_count": 0,
      "outputs": [
        {
          "output_type": "stream",
          "text": [
            "Go to this URL in a browser: https://accounts.google.com/o/oauth2/auth?client_id=947318989803-6bn6qk8qdgf4n4g3pfee6491hc0brc4i.apps.googleusercontent.com&redirect_uri=urn%3Aietf%3Awg%3Aoauth%3A2.0%3Aoob&scope=email%20https%3A%2F%2Fwww.googleapis.com%2Fauth%2Fdocs.test%20https%3A%2F%2Fwww.googleapis.com%2Fauth%2Fdrive%20https%3A%2F%2Fwww.googleapis.com%2Fauth%2Fdrive.photos.readonly%20https%3A%2F%2Fwww.googleapis.com%2Fauth%2Fpeopleapi.readonly&response_type=code\n",
            "\n",
            "Enter your authorization code:\n",
            "··········\n",
            "Mounted at /content/gdrive\n"
          ],
          "name": "stdout"
        }
      ]
    },
    {
      "cell_type": "code",
      "metadata": {
        "id": "MFQoGZBsklLz",
        "colab_type": "code",
        "outputId": "9a82a3bf-6a5d-48bd-eac4-2fb92cf76918",
        "colab": {
          "base_uri": "https://localhost:8080/",
          "height": 35
        }
      },
      "source": [
        "cd gdrive/My\\ Drive"
      ],
      "execution_count": 0,
      "outputs": [
        {
          "output_type": "stream",
          "text": [
            "/content/gdrive/My Drive\n"
          ],
          "name": "stdout"
        }
      ]
    },
    {
      "cell_type": "code",
      "metadata": {
        "id": "GlxgmnvEkuxK",
        "colab_type": "code",
        "outputId": "9ef24662-590f-4733-e3b7-f9bb56e2fced",
        "colab": {
          "base_uri": "https://localhost:8080/",
          "height": 35
        }
      },
      "source": [
        "pwd"
      ],
      "execution_count": 0,
      "outputs": [
        {
          "output_type": "execute_result",
          "data": {
            "text/plain": [
              "'/content/gdrive/My Drive'"
            ]
          },
          "metadata": {
            "tags": []
          },
          "execution_count": 6
        }
      ]
    },
    {
      "cell_type": "code",
      "metadata": {
        "id": "iHRe2xtek0HS",
        "colab_type": "code",
        "outputId": "08cb6141-61c9-428b-8f41-9b402e63fca4",
        "colab": {
          "base_uri": "https://localhost:8080/",
          "height": 35
        }
      },
      "source": [
        "cd bbd2019"
      ],
      "execution_count": 0,
      "outputs": [
        {
          "output_type": "stream",
          "text": [
            "/content/gdrive/My Drive/bbd2019\n"
          ],
          "name": "stdout"
        }
      ]
    },
    {
      "cell_type": "code",
      "metadata": {
        "id": "LbGUkgEWlIS6",
        "colab_type": "code",
        "outputId": "799ef0af-d9d3-4339-9008-261bd68dc864",
        "colab": {
          "base_uri": "https://localhost:8080/",
          "height": 35
        }
      },
      "source": [
        "cd ../analysis/경상대/2019/8.\\ 강의/"
      ],
      "execution_count": 0,
      "outputs": [
        {
          "output_type": "stream",
          "text": [
            "/content/gdrive/My Drive/analysis/경상대/2019/8. 강의\n"
          ],
          "name": "stdout"
        }
      ]
    },
    {
      "cell_type": "code",
      "metadata": {
        "id": "MjF-8a7YlTqi",
        "colab_type": "code",
        "outputId": "b8b524ee-78d9-4d06-9203-c05746f97e08",
        "colab": {
          "base_uri": "https://localhost:8080/",
          "height": 55
        }
      },
      "source": [
        "cd 2019바이오빅데이터/2019바이오빅데이터\\ 수업자료/"
      ],
      "execution_count": 0,
      "outputs": [
        {
          "output_type": "stream",
          "text": [
            "/content/gdrive/My Drive/analysis/경상대/2019/8. 강의/2019바이오빅데이터/2019바이오빅데이터 수업자료\n"
          ],
          "name": "stdout"
        }
      ]
    },
    {
      "cell_type": "code",
      "metadata": {
        "id": "fF-m5BSFlUsy",
        "colab_type": "code",
        "outputId": "fb3508a2-58b2-4e27-8e15-03dc48599bed",
        "colab": {
          "base_uri": "https://localhost:8080/",
          "height": 52
        }
      },
      "source": [
        "ls"
      ],
      "execution_count": 0,
      "outputs": [
        {
          "output_type": "stream",
          "text": [
            " 이론수업_1일.gslides   이론수업_2일.gslides  '코딩수업 3일차.ipynb'\n",
            " 코딩수업_1일.ipynb     코딩수업_2일.ipynb     dictionary.xlsx\n"
          ],
          "name": "stdout"
        }
      ]
    },
    {
      "cell_type": "code",
      "metadata": {
        "id": "jJD7Lr7slZfa",
        "colab_type": "code",
        "outputId": "baeea9ac-2a74-4a33-d8ae-31a38a0a3621",
        "colab": {
          "base_uri": "https://localhost:8080/",
          "height": 55
        }
      },
      "source": [
        "pwd"
      ],
      "execution_count": 0,
      "outputs": [
        {
          "output_type": "execute_result",
          "data": {
            "text/plain": [
              "'/content/gdrive/My Drive/analysis/경상대/2019/8. 강의/2019바이오빅데이터/2019바이오빅데이터 수업자료'"
            ]
          },
          "metadata": {
            "tags": []
          },
          "execution_count": 12
        }
      ]
    },
    {
      "cell_type": "code",
      "metadata": {
        "id": "BETYVH-blb5y",
        "colab_type": "code",
        "colab": {}
      },
      "source": [
        "# F2 segregation - mendelian inheritance \n",
        "# M(homo) x F(homo) -> F1 -> selfing -> F2\n",
        "# A locus : M(AA) x F(aa)\n",
        "# F1 : (Aa)\n",
        "# M (Aa) x F (Aa) -> F2"
      ],
      "execution_count": 0,
      "outputs": []
    },
    {
      "cell_type": "code",
      "metadata": {
        "id": "1f3t-m6PmFVp",
        "colab_type": "code",
        "colab": {}
      },
      "source": [
        "import random"
      ],
      "execution_count": 0,
      "outputs": []
    },
    {
      "cell_type": "code",
      "metadata": {
        "id": "V8_4hrTRmGxB",
        "colab_type": "code",
        "colab": {}
      },
      "source": [
        "m = ['A','a'] # yellow seed coat \n",
        "f = ['A','a']\n",
        "F2_locus_gt_list = [] \n",
        "for i in range(10000):\n",
        "  m_allele = random.sample(m,1)\n",
        "  f_allele = random.sample(f,1)\n",
        "  F2_locus_gt = m_allele + f_allele \n",
        "  F2_locus_gt.sort()\n",
        "  F2_locus_gt_list.append(''.join(F2_locus_gt))"
      ],
      "execution_count": 0,
      "outputs": []
    },
    {
      "cell_type": "code",
      "metadata": {
        "id": "nTaXFo2fmipJ",
        "colab_type": "code",
        "outputId": "c33319c1-2644-47e8-9419-3baa6fa8acf3",
        "colab": {
          "base_uri": "https://localhost:8080/",
          "height": 35
        }
      },
      "source": [
        "from collections import Counter\n",
        "Counter(F2_locus_gt_list)"
      ],
      "execution_count": 0,
      "outputs": [
        {
          "output_type": "execute_result",
          "data": {
            "text/plain": [
              "Counter({'AA': 2499, 'Aa': 5087, 'aa': 2414})"
            ]
          },
          "metadata": {
            "tags": []
          },
          "execution_count": 49
        }
      ]
    },
    {
      "cell_type": "code",
      "metadata": {
        "id": "P-KVEHXCm33Q",
        "colab_type": "code",
        "colab": {}
      },
      "source": [
        "import pandas as pd\n",
        "df_gt = pd.DataFrame()\n",
        "df_gt['locus1'] = F2_locus_gt_list\n",
        "df_gt"
      ],
      "execution_count": 0,
      "outputs": []
    },
    {
      "cell_type": "code",
      "metadata": {
        "id": "gXVgkCt_n7_3",
        "colab_type": "code",
        "colab": {}
      },
      "source": [
        "m = ['B','b'] # wrinkle or not \n",
        "f = ['B','b']\n",
        "F2_locus_gt_list = [] \n",
        "for i in range(10000):\n",
        "  m_allele = random.sample(m,1)\n",
        "  f_allele = random.sample(f,1)\n",
        "  F2_locus_gt = m_allele + f_allele \n",
        "  F2_locus_gt.sort()\n",
        "  F2_locus_gt_list.append(''.join(F2_locus_gt))"
      ],
      "execution_count": 0,
      "outputs": []
    },
    {
      "cell_type": "code",
      "metadata": {
        "id": "3mDaQQkapNwO",
        "colab_type": "code",
        "colab": {}
      },
      "source": [
        "df_gt['locus2'] = F2_locus_gt_list"
      ],
      "execution_count": 0,
      "outputs": []
    },
    {
      "cell_type": "code",
      "metadata": {
        "id": "JDLO5vEcpQmu",
        "colab_type": "code",
        "colab": {}
      },
      "source": [
        "df_gt['merged'] = df_gt.apply(lambda x : x['locus1'] + x['locus2'],axis=1)"
      ],
      "execution_count": 0,
      "outputs": []
    },
    {
      "cell_type": "code",
      "metadata": {
        "id": "4nvugJPEpsyt",
        "colab_type": "code",
        "colab": {}
      },
      "source": [
        "df_gt_count = pd.DataFrame(dict(Counter(df_gt['merged'])),index=['Count'])"
      ],
      "execution_count": 0,
      "outputs": []
    },
    {
      "cell_type": "code",
      "metadata": {
        "id": "2wMYG-Ovp8Ct",
        "colab_type": "code",
        "colab": {}
      },
      "source": [
        "ys = df_gt_count[['AABB','AABb','AaBB','AaBb']].values.sum()\n",
        "yw = df_gt_count[['AAbb','Aabb']].values.sum()\n",
        "gs = df_gt_count[['aaBB','aaBb']].values.sum()\n",
        "gw = df_gt_count[['aabb']].values.sum()"
      ],
      "execution_count": 0,
      "outputs": []
    },
    {
      "cell_type": "code",
      "metadata": {
        "id": "LtcqtDv5uDna",
        "colab_type": "code",
        "colab": {}
      },
      "source": [
        "import numpy as np\n",
        "gt_count = np.array([ys,yw,gs,gw])"
      ],
      "execution_count": 0,
      "outputs": []
    },
    {
      "cell_type": "code",
      "metadata": {
        "id": "NnRxU0u2uMs5",
        "colab_type": "code",
        "outputId": "32dce57a-2b14-4aaf-8dc9-b11f13b4ba8a",
        "colab": {
          "base_uri": "https://localhost:8080/",
          "height": 35
        }
      },
      "source": [
        "gt_count.astype(float) / gt_count.min()"
      ],
      "execution_count": 0,
      "outputs": [
        {
          "output_type": "execute_result",
          "data": {
            "text/plain": [
              "array([9.40840336, 3.34117647, 3.05714286, 1.        ])"
            ]
          },
          "metadata": {
            "tags": []
          },
          "execution_count": 77
        }
      ]
    },
    {
      "cell_type": "code",
      "metadata": {
        "id": "HxsoyRm5uU6R",
        "colab_type": "code",
        "colab": {}
      },
      "source": [
        "# Hardy-Weinberg equilibrium equation \n",
        "# p + q = 1 # allele frequency \n",
        "# (p + q)^2 = 1 \n",
        "# p^2 + 2pq + q^2 = 1 # genotype frequency "
      ],
      "execution_count": 0,
      "outputs": []
    },
    {
      "cell_type": "code",
      "metadata": {
        "id": "i4XEsNhHxc_O",
        "colab_type": "code",
        "colab": {}
      },
      "source": [
        "# what if number of alleles was not 2 \n",
        "# what if allele frequency was not 0.5 "
      ],
      "execution_count": 0,
      "outputs": []
    },
    {
      "cell_type": "code",
      "metadata": {
        "id": "8AcJmP0Axn0u",
        "colab_type": "code",
        "colab": {}
      },
      "source": [
        "# locus 50 개를 만들어보자 "
      ],
      "execution_count": 0,
      "outputs": []
    },
    {
      "cell_type": "code",
      "metadata": {
        "id": "WQebVNH-x5lO",
        "colab_type": "code",
        "outputId": "0b814f7a-614d-4359-c72b-af0e152d2cdf",
        "colab": {
          "base_uri": "https://localhost:8080/",
          "height": 70
        }
      },
      "source": [
        "# 1. locus 당 allele 갯수를 정하자 \n",
        "np.random.randint(low=2,high=10,size=50)"
      ],
      "execution_count": 0,
      "outputs": [
        {
          "output_type": "execute_result",
          "data": {
            "text/plain": [
              "array([9, 5, 7, 2, 4, 7, 8, 7, 3, 8, 2, 3, 4, 5, 6, 3, 2, 3, 4, 9, 5, 3,\n",
              "       3, 6, 2, 3, 3, 4, 9, 8, 9, 8, 8, 6, 8, 8, 7, 8, 8, 2, 3, 4, 8, 5,\n",
              "       2, 5, 6, 2, 2, 3])"
            ]
          },
          "metadata": {
            "tags": []
          },
          "execution_count": 83
        }
      ]
    },
    {
      "cell_type": "code",
      "metadata": {
        "id": "H9r2x7OIyEJ-",
        "colab_type": "code",
        "colab": {}
      },
      "source": [
        "# 2. 각 locus 에서 각 allele의 frequency를 바꿔 보자 "
      ],
      "execution_count": 0,
      "outputs": []
    },
    {
      "cell_type": "code",
      "metadata": {
        "id": "T0EdEltWyZst",
        "colab_type": "code",
        "colab": {}
      },
      "source": [
        "p = np.random.random(9)\n",
        "p = p/sum(p)"
      ],
      "execution_count": 0,
      "outputs": []
    },
    {
      "cell_type": "code",
      "metadata": {
        "id": "Y85Pnx3AzDGF",
        "colab_type": "code",
        "outputId": "9106e232-8e79-422f-e075-f786ab69869c",
        "colab": {
          "base_uri": "https://localhost:8080/",
          "height": 52
        }
      },
      "source": [
        "p"
      ],
      "execution_count": 0,
      "outputs": [
        {
          "output_type": "execute_result",
          "data": {
            "text/plain": [
              "array([0.15864493, 0.21395621, 0.06906811, 0.17116865, 0.01805329,\n",
              "       0.05354759, 0.11185605, 0.05492268, 0.14878249])"
            ]
          },
          "metadata": {
            "tags": []
          },
          "execution_count": 95
        }
      ]
    },
    {
      "cell_type": "code",
      "metadata": {
        "id": "E4pcE7lSy-6i",
        "colab_type": "code",
        "colab": {}
      },
      "source": [
        "m = np.random.choice(range(9),p=p)"
      ],
      "execution_count": 0,
      "outputs": []
    },
    {
      "cell_type": "code",
      "metadata": {
        "id": "YCuQXK6czLSH",
        "colab_type": "code",
        "outputId": "12123aff-0f4b-45af-da26-2a8a4e7e2417",
        "colab": {
          "base_uri": "https://localhost:8080/",
          "height": 70
        }
      },
      "source": [
        "m"
      ],
      "execution_count": 0,
      "outputs": [
        {
          "output_type": "execute_result",
          "data": {
            "text/plain": [
              "array([1, 3, 6, 7, 1, 3, 3, 8, 3, 0, 0, 4, 5, 1, 8, 3, 3, 1, 6, 1, 6, 1,\n",
              "       1, 0, 6, 0, 8, 3, 1, 1, 1, 2, 3, 6, 1, 5, 5, 1, 0, 6, 1, 1, 3, 1,\n",
              "       0, 3, 3, 2, 1, 6])"
            ]
          },
          "metadata": {
            "tags": []
          },
          "execution_count": 99
        }
      ]
    },
    {
      "cell_type": "code",
      "metadata": {
        "id": "Fx59jZBE1z-9",
        "colab_type": "code",
        "colab": {}
      },
      "source": [
        "import numpy as np\n",
        "import pandas as pd"
      ],
      "execution_count": 0,
      "outputs": []
    },
    {
      "cell_type": "code",
      "metadata": {
        "id": "UUx4R0yDyuGl",
        "colab_type": "code",
        "colab": {}
      },
      "source": [
        "locus_list = []\n",
        "for n_allele in np.random.randint(low=2,high=10,size=50):\n",
        "  p = np.random.random(n_allele)\n",
        "  p = p/sum(p)\n",
        "  locus = []\n",
        "  for i in range(10000):\n",
        "    m = np.random.choice(range(n_allele),p=p)\n",
        "    f = np.random.choice(range(n_allele),p=p)\n",
        "    gt = [str(m),str(f)]\n",
        "    gt.sort()\n",
        "    locus.append(''.join(gt))\n",
        "  locus_list.append(locus)\n",
        "    \n",
        "  "
      ],
      "execution_count": 0,
      "outputs": []
    },
    {
      "cell_type": "code",
      "metadata": {
        "id": "yxr8d2720Y-W",
        "colab_type": "code",
        "colab": {}
      },
      "source": [
        "df_hw_gt = pd.DataFrame(data=np.array(locus_list))"
      ],
      "execution_count": 0,
      "outputs": []
    },
    {
      "cell_type": "code",
      "metadata": {
        "id": "UH2PWKRcz_4M",
        "colab_type": "code",
        "outputId": "e9aba74e-1a88-4839-b5b2-88a8fb87e992",
        "colab": {
          "base_uri": "https://localhost:8080/",
          "height": 35
        }
      },
      "source": [
        "df_hw_gt.shape"
      ],
      "execution_count": 0,
      "outputs": [
        {
          "output_type": "execute_result",
          "data": {
            "text/plain": [
              "(50, 10000)"
            ]
          },
          "metadata": {
            "tags": []
          },
          "execution_count": 110
        }
      ]
    },
    {
      "cell_type": "code",
      "metadata": {
        "id": "xdLpg7AZ0yvj",
        "colab_type": "code",
        "colab": {}
      },
      "source": [
        ""
      ],
      "execution_count": 0,
      "outputs": []
    }
  ]
}